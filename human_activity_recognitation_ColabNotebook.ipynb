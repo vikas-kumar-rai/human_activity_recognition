{
 "cells": [
  {
   "cell_type": "code",
   "execution_count": 1,
   "metadata": {
    "id": "J0-EIj8uTbJ6"
   },
   "outputs": [],
   "source": [
    "import tensorflow as tf\n",
    "import keras\n",
    "from keras.applications.resnet50 import ResNet50, preprocess_input\n",
    "from keras.applications.resnet import decode_predictions\n",
    "from keras.layers import Input,UpSampling2D,Flatten,BatchNormalization,Dense,Dropout,GlobalAveragePooling2D\n",
    "import numpy as np\n",
    "import matplotlib.pyplot as plt\n",
    "from keras.preprocessing.image import ImageDataGenerator\n",
    "from glob import glob\n",
    "from PIL import Image\n",
    "import PIL"
   ]
  },
  {
   "cell_type": "code",
   "execution_count": 2,
   "metadata": {
    "id": "aEc_UqXiTi1m"
   },
   "outputs": [],
   "source": [
    "NUM_CLASSES = 3\n",
    "NUM_EPOCHS = 100"
   ]
  },
  {
   "cell_type": "code",
   "execution_count": 3,
   "metadata": {
    "id": "hEQmCJ_uTv8f"
   },
   "outputs": [],
   "source": [
    "IMAGE_SIZE = [224, 224]\n",
    "train = '/content/drive/MyDrive/data/train'\n",
    "test = '/content/drive/MyDrive/data/test'"
   ]
  },
  {
   "cell_type": "code",
   "execution_count": 4,
   "metadata": {
    "colab": {
     "base_uri": "https://localhost:8080/"
    },
    "id": "yT_M-DlSUabl",
    "outputId": "f679aaf5-b87b-4a17-c1a7-7bb344fd09bf"
   },
   "outputs": [
    {
     "name": "stdout",
     "output_type": "stream",
     "text": [
      "3\n"
     ]
    }
   ],
   "source": [
    "folders = glob('/content/drive/MyDrive/data/train/*')\n",
    "print(len(folders))"
   ]
  },
  {
   "cell_type": "code",
   "execution_count": 5,
   "metadata": {
    "id": "tKPC3byvUsFp"
   },
   "outputs": [],
   "source": [
    "IMAGE_RESIZE = 224\n",
    "RESNET50_POOLING_AVERAGE = 'avg'\n",
    "DENSE_LAYER_ACTIVATION = 'softmax'\n",
    "OBJECTIVE_FUNCTION = 'categorical_crossentropy'"
   ]
  },
  {
   "cell_type": "code",
   "execution_count": 6,
   "metadata": {
    "id": "9K4Z3skfU2oh"
   },
   "outputs": [],
   "source": [
    "LOSS_METRICS = ['accuracy']"
   ]
  },
  {
   "cell_type": "code",
   "execution_count": 7,
   "metadata": {
    "id": "RBbw3c4yU7DT"
   },
   "outputs": [],
   "source": [
    "BATCH_SIZE_TRAINING = 50\n",
    "BATCH_SIZE_VALIDATION = 50"
   ]
  },
  {
   "cell_type": "code",
   "execution_count": 8,
   "metadata": {
    "colab": {
     "base_uri": "https://localhost:8080/"
    },
    "id": "QH9Q9CxOU_ds",
    "outputId": "436c5375-ef3c-4104-a55f-14f04c3ee5a4"
   },
   "outputs": [
    {
     "name": "stdout",
     "output_type": "stream",
     "text": [
      "Downloading data from https://storage.googleapis.com/tensorflow/keras-applications/resnet/resnet50_weights_tf_dim_ordering_tf_kernels_notop.h5\n",
      "94773248/94765736 [==============================] - 1s 0us/step\n"
     ]
    }
   ],
   "source": [
    "resnet=ResNet50(include_top=False, weights='imagenet',input_shape=IMAGE_SIZE + [3])"
   ]
  },
  {
   "cell_type": "code",
   "execution_count": 9,
   "metadata": {
    "id": "w83gdI9ZVD7X"
   },
   "outputs": [],
   "source": [
    "from keras.models import Model,Sequential"
   ]
  },
  {
   "cell_type": "code",
   "execution_count": 10,
   "metadata": {
    "id": "32sc0CjbVKHY"
   },
   "outputs": [],
   "source": [
    "model = Sequential()\n",
    "model.add(ResNet50(include_top = False, pooling = RESNET50_POOLING_AVERAGE, weights = 'imagenet'))\n",
    "model.add(Dense(NUM_CLASSES, activation = DENSE_LAYER_ACTIVATION))"
   ]
  },
  {
   "cell_type": "code",
   "execution_count": 11,
   "metadata": {
    "id": "CC6VxsYDVcNA"
   },
   "outputs": [],
   "source": [
    "model.layers[0].trainable = False"
   ]
  },
  {
   "cell_type": "code",
   "execution_count": 12,
   "metadata": {
    "colab": {
     "base_uri": "https://localhost:8080/"
    },
    "id": "cj7oRa1oVfLu",
    "outputId": "7509a5f3-df38-4000-b7e9-a98e212df74e"
   },
   "outputs": [
    {
     "name": "stdout",
     "output_type": "stream",
     "text": [
      "Model: \"sequential\"\n",
      "_________________________________________________________________\n",
      "Layer (type)                 Output Shape              Param #   \n",
      "=================================================================\n",
      "resnet50 (Functional)        (None, 2048)              23587712  \n",
      "_________________________________________________________________\n",
      "dense (Dense)                (None, 3)                 6147      \n",
      "=================================================================\n",
      "Total params: 23,593,859\n",
      "Trainable params: 6,147\n",
      "Non-trainable params: 23,587,712\n",
      "_________________________________________________________________\n"
     ]
    }
   ],
   "source": [
    "model.summary()"
   ]
  },
  {
   "cell_type": "code",
   "execution_count": 13,
   "metadata": {
    "id": "JmCdwDVUVijE"
   },
   "outputs": [],
   "source": [
    "from keras import optimizers"
   ]
  },
  {
   "cell_type": "code",
   "execution_count": 14,
   "metadata": {
    "id": "LJLyIJFCWCKP"
   },
   "outputs": [],
   "source": [
    "sgd = optimizers.SGD(lr = 0.01, decay = 1e-6, momentum = 0.9, nesterov = True)"
   ]
  },
  {
   "cell_type": "code",
   "execution_count": 15,
   "metadata": {
    "id": "493vHEPTWHBY"
   },
   "outputs": [],
   "source": [
    "model.compile(optimizer = sgd, loss = OBJECTIVE_FUNCTION, metrics = LOSS_METRICS)"
   ]
  },
  {
   "cell_type": "code",
   "execution_count": 16,
   "metadata": {
    "id": "2C3VVOOzWMBP"
   },
   "outputs": [],
   "source": [
    "data_generator = ImageDataGenerator(\n",
    "    rescale=1./255,\n",
    "    width_shift_range=0.2,\n",
    "    height_shift_range=0.2,\n",
    "    shear_range=0.2,\n",
    "    preprocessing_function=preprocess_input)\n",
    "\n",
    "\n",
    "test_datagen = ImageDataGenerator(rescale=1./255)"
   ]
  },
  {
   "cell_type": "code",
   "execution_count": 17,
   "metadata": {
    "colab": {
     "base_uri": "https://localhost:8080/"
    },
    "id": "pAWdgctPYT3X",
    "outputId": "b07759ee-f464-4b27-dfb2-1b55b53bf6a2"
   },
   "outputs": [
    {
     "name": "stdout",
     "output_type": "stream",
     "text": [
      "Found 360 images belonging to 3 classes.\n",
      "Found 90 images belonging to 3 classes.\n"
     ]
    }
   ],
   "source": [
    "train_generator = data_generator.flow_from_directory(\n",
    "        train,\n",
    "        target_size=(224, 224),\n",
    "        batch_size=BATCH_SIZE_TRAINING,\n",
    "        class_mode='categorical')\n",
    "\n",
    "\n",
    "validation_generator = test_datagen.flow_from_directory(\n",
    "        test,\n",
    "        target_size=(224, 224),\n",
    "        batch_size=BATCH_SIZE_VALIDATION,\n",
    "        class_mode='categorical')"
   ]
  },
  {
   "cell_type": "code",
   "execution_count": 18,
   "metadata": {
    "id": "mpIyd1oaYobj"
   },
   "outputs": [],
   "source": [
    "from keras.callbacks import ReduceLROnPlateau, ModelCheckpoint"
   ]
  },
  {
   "cell_type": "code",
   "execution_count": 19,
   "metadata": {
    "id": "Zq3MUDgyYzB2"
   },
   "outputs": [],
   "source": [
    "lr_reducer = ReduceLROnPlateau(factor=np.sqrt(0.1),\n",
    "                               cooldown=0,\n",
    "                               patience=5,\n",
    "                               min_lr=0.5e-6)\n",
    "\n",
    "checkpoint = ModelCheckpoint(filepath='Image_classification_resnet50.h5', \n",
    "                               verbose=1, save_best_only=True)\n",
    "\n",
    "\n",
    "callbacks = [checkpoint, lr_reducer]"
   ]
  },
  {
   "cell_type": "code",
   "execution_count": 20,
   "metadata": {
    "colab": {
     "base_uri": "https://localhost:8080/"
    },
    "id": "VYh5wQ_gZI7-",
    "outputId": "381c88e6-c33f-421c-fa68-8eecdbe39cf8"
   },
   "outputs": [
    {
     "name": "stdout",
     "output_type": "stream",
     "text": [
      "Epoch 1/100\n",
      "8/8 [==============================] - ETA: 0s - loss: 3.8620 - accuracy: 0.3417 \n",
      "Epoch 00001: val_loss improved from inf to 6.62997, saving model to Image_classification_resnet50.h5\n",
      "8/8 [==============================] - 412s 51s/step - loss: 3.8620 - accuracy: 0.3417 - val_loss: 6.6300 - val_accuracy: 0.3333\n",
      "Epoch 2/100\n",
      "8/8 [==============================] - ETA: 0s - loss: 4.1605 - accuracy: 0.3333\n",
      "Epoch 00002: val_loss improved from 6.62997 to 5.07983, saving model to Image_classification_resnet50.h5\n",
      "8/8 [==============================] - 4s 550ms/step - loss: 4.1605 - accuracy: 0.3333 - val_loss: 5.0798 - val_accuracy: 0.3333\n",
      "Epoch 3/100\n",
      "8/8 [==============================] - ETA: 0s - loss: 4.4557 - accuracy: 0.3056\n",
      "Epoch 00003: val_loss improved from 5.07983 to 3.93924, saving model to Image_classification_resnet50.h5\n",
      "8/8 [==============================] - 5s 623ms/step - loss: 4.4557 - accuracy: 0.3056 - val_loss: 3.9392 - val_accuracy: 0.3333\n",
      "Epoch 4/100\n",
      "8/8 [==============================] - ETA: 0s - loss: 5.4539 - accuracy: 0.3111\n",
      "Epoch 00004: val_loss improved from 3.93924 to 2.44570, saving model to Image_classification_resnet50.h5\n",
      "8/8 [==============================] - 5s 587ms/step - loss: 5.4539 - accuracy: 0.3111 - val_loss: 2.4457 - val_accuracy: 0.3444\n",
      "Epoch 5/100\n",
      "8/8 [==============================] - ETA: 0s - loss: 3.5787 - accuracy: 0.3639\n",
      "Epoch 00005: val_loss did not improve from 2.44570\n",
      "8/8 [==============================] - 4s 512ms/step - loss: 3.5787 - accuracy: 0.3639 - val_loss: 6.2730 - val_accuracy: 0.3333\n",
      "Epoch 6/100\n",
      "8/8 [==============================] - ETA: 0s - loss: 4.9486 - accuracy: 0.3222\n",
      "Epoch 00006: val_loss did not improve from 2.44570\n",
      "8/8 [==============================] - 5s 576ms/step - loss: 4.9486 - accuracy: 0.3222 - val_loss: 3.6449 - val_accuracy: 0.3333\n",
      "Epoch 7/100\n",
      "8/8 [==============================] - ETA: 0s - loss: 6.0664 - accuracy: 0.2861\n",
      "Epoch 00007: val_loss did not improve from 2.44570\n",
      "8/8 [==============================] - 4s 511ms/step - loss: 6.0664 - accuracy: 0.2861 - val_loss: 4.0576 - val_accuracy: 0.3333\n",
      "Epoch 8/100\n",
      "8/8 [==============================] - ETA: 0s - loss: 4.2804 - accuracy: 0.3500\n",
      "Epoch 00008: val_loss did not improve from 2.44570\n",
      "8/8 [==============================] - 4s 510ms/step - loss: 4.2804 - accuracy: 0.3500 - val_loss: 3.3250 - val_accuracy: 0.4333\n",
      "Epoch 9/100\n",
      "8/8 [==============================] - ETA: 0s - loss: 4.2200 - accuracy: 0.3472\n",
      "Epoch 00009: val_loss did not improve from 2.44570\n",
      "8/8 [==============================] - 4s 504ms/step - loss: 4.2200 - accuracy: 0.3472 - val_loss: 5.6486 - val_accuracy: 0.3333\n",
      "Epoch 10/100\n",
      "8/8 [==============================] - ETA: 0s - loss: 2.7817 - accuracy: 0.3917\n",
      "Epoch 00010: val_loss improved from 2.44570 to 0.95933, saving model to Image_classification_resnet50.h5\n",
      "8/8 [==============================] - 4s 552ms/step - loss: 2.7817 - accuracy: 0.3917 - val_loss: 0.9593 - val_accuracy: 0.5222\n",
      "Epoch 11/100\n",
      "8/8 [==============================] - ETA: 0s - loss: 1.0198 - accuracy: 0.4583\n",
      "Epoch 00011: val_loss did not improve from 0.95933\n",
      "8/8 [==============================] - 4s 521ms/step - loss: 1.0198 - accuracy: 0.4583 - val_loss: 1.4212 - val_accuracy: 0.3444\n",
      "Epoch 12/100\n",
      "8/8 [==============================] - ETA: 0s - loss: 1.1429 - accuracy: 0.4194\n",
      "Epoch 00012: val_loss improved from 0.95933 to 0.94289, saving model to Image_classification_resnet50.h5\n",
      "8/8 [==============================] - 4s 560ms/step - loss: 1.1429 - accuracy: 0.4194 - val_loss: 0.9429 - val_accuracy: 0.5000\n",
      "Epoch 13/100\n",
      "8/8 [==============================] - ETA: 0s - loss: 1.0401 - accuracy: 0.4472\n",
      "Epoch 00013: val_loss did not improve from 0.94289\n",
      "8/8 [==============================] - 4s 513ms/step - loss: 1.0401 - accuracy: 0.4472 - val_loss: 1.1115 - val_accuracy: 0.3778\n",
      "Epoch 14/100\n",
      "8/8 [==============================] - ETA: 0s - loss: 1.1007 - accuracy: 0.3750\n",
      "Epoch 00014: val_loss improved from 0.94289 to 0.93428, saving model to Image_classification_resnet50.h5\n",
      "8/8 [==============================] - 4s 552ms/step - loss: 1.1007 - accuracy: 0.3750 - val_loss: 0.9343 - val_accuracy: 0.5444\n",
      "Epoch 15/100\n",
      "8/8 [==============================] - ETA: 0s - loss: 1.0742 - accuracy: 0.4806\n",
      "Epoch 00015: val_loss improved from 0.93428 to 0.91440, saving model to Image_classification_resnet50.h5\n",
      "8/8 [==============================] - 4s 558ms/step - loss: 1.0742 - accuracy: 0.4806 - val_loss: 0.9144 - val_accuracy: 0.6222\n",
      "Epoch 16/100\n",
      "8/8 [==============================] - ETA: 0s - loss: 1.0757 - accuracy: 0.4306\n",
      "Epoch 00016: val_loss did not improve from 0.91440\n",
      "8/8 [==============================] - 4s 518ms/step - loss: 1.0757 - accuracy: 0.4306 - val_loss: 0.9258 - val_accuracy: 0.5556\n",
      "Epoch 17/100\n",
      "8/8 [==============================] - ETA: 0s - loss: 1.0107 - accuracy: 0.5000\n",
      "Epoch 00017: val_loss improved from 0.91440 to 0.90572, saving model to Image_classification_resnet50.h5\n",
      "8/8 [==============================] - 4s 553ms/step - loss: 1.0107 - accuracy: 0.5000 - val_loss: 0.9057 - val_accuracy: 0.6222\n",
      "Epoch 18/100\n",
      "8/8 [==============================] - ETA: 0s - loss: 1.0601 - accuracy: 0.4111\n",
      "Epoch 00018: val_loss did not improve from 0.90572\n",
      "8/8 [==============================] - 5s 584ms/step - loss: 1.0601 - accuracy: 0.4111 - val_loss: 0.9269 - val_accuracy: 0.5000\n",
      "Epoch 19/100\n",
      "8/8 [==============================] - ETA: 0s - loss: 1.0351 - accuracy: 0.4889\n",
      "Epoch 00019: val_loss improved from 0.90572 to 0.90304, saving model to Image_classification_resnet50.h5\n",
      "8/8 [==============================] - 5s 614ms/step - loss: 1.0351 - accuracy: 0.4889 - val_loss: 0.9030 - val_accuracy: 0.5667\n",
      "Epoch 20/100\n",
      "8/8 [==============================] - ETA: 0s - loss: 0.9899 - accuracy: 0.5056\n",
      "Epoch 00020: val_loss did not improve from 0.90304\n",
      "8/8 [==============================] - 4s 523ms/step - loss: 0.9899 - accuracy: 0.5056 - val_loss: 1.1815 - val_accuracy: 0.5556\n",
      "Epoch 21/100\n",
      "8/8 [==============================] - ETA: 0s - loss: 1.0882 - accuracy: 0.4611\n",
      "Epoch 00021: val_loss improved from 0.90304 to 0.90190, saving model to Image_classification_resnet50.h5\n",
      "8/8 [==============================] - 4s 551ms/step - loss: 1.0882 - accuracy: 0.4611 - val_loss: 0.9019 - val_accuracy: 0.6000\n",
      "Epoch 22/100\n",
      "8/8 [==============================] - ETA: 0s - loss: 1.0472 - accuracy: 0.4833\n",
      "Epoch 00022: val_loss did not improve from 0.90190\n",
      "8/8 [==============================] - 4s 513ms/step - loss: 1.0472 - accuracy: 0.4833 - val_loss: 0.9298 - val_accuracy: 0.6333\n",
      "Epoch 23/100\n",
      "8/8 [==============================] - ETA: 0s - loss: 1.0074 - accuracy: 0.4806\n",
      "Epoch 00023: val_loss improved from 0.90190 to 0.89961, saving model to Image_classification_resnet50.h5\n",
      "8/8 [==============================] - 4s 554ms/step - loss: 1.0074 - accuracy: 0.4806 - val_loss: 0.8996 - val_accuracy: 0.5556\n",
      "Epoch 24/100\n",
      "8/8 [==============================] - ETA: 0s - loss: 1.1015 - accuracy: 0.4611\n",
      "Epoch 00024: val_loss did not improve from 0.89961\n",
      "8/8 [==============================] - 4s 518ms/step - loss: 1.1015 - accuracy: 0.4611 - val_loss: 0.9120 - val_accuracy: 0.6111\n",
      "Epoch 25/100\n",
      "8/8 [==============================] - ETA: 0s - loss: 1.0232 - accuracy: 0.4833\n",
      "Epoch 00025: val_loss did not improve from 0.89961\n",
      "8/8 [==============================] - 4s 538ms/step - loss: 1.0232 - accuracy: 0.4833 - val_loss: 1.0291 - val_accuracy: 0.4111\n",
      "Epoch 26/100\n",
      "8/8 [==============================] - ETA: 0s - loss: 1.0120 - accuracy: 0.4667\n",
      "Epoch 00026: val_loss did not improve from 0.89961\n",
      "8/8 [==============================] - 5s 599ms/step - loss: 1.0120 - accuracy: 0.4667 - val_loss: 0.9065 - val_accuracy: 0.5000\n",
      "Epoch 27/100\n",
      "8/8 [==============================] - ETA: 0s - loss: 1.1093 - accuracy: 0.4278\n",
      "Epoch 00027: val_loss did not improve from 0.89961\n",
      "8/8 [==============================] - 5s 597ms/step - loss: 1.1093 - accuracy: 0.4278 - val_loss: 0.9145 - val_accuracy: 0.5444\n",
      "Epoch 28/100\n",
      "8/8 [==============================] - ETA: 0s - loss: 1.0843 - accuracy: 0.3861\n",
      "Epoch 00028: val_loss did not improve from 0.89961\n",
      "8/8 [==============================] - 4s 513ms/step - loss: 1.0843 - accuracy: 0.3861 - val_loss: 0.9239 - val_accuracy: 0.5889\n",
      "Epoch 29/100\n",
      "8/8 [==============================] - ETA: 0s - loss: 1.0137 - accuracy: 0.4778\n",
      "Epoch 00029: val_loss improved from 0.89961 to 0.88935, saving model to Image_classification_resnet50.h5\n",
      "8/8 [==============================] - 4s 550ms/step - loss: 1.0137 - accuracy: 0.4778 - val_loss: 0.8894 - val_accuracy: 0.6000\n",
      "Epoch 30/100\n",
      "8/8 [==============================] - ETA: 0s - loss: 0.9900 - accuracy: 0.4917\n",
      "Epoch 00030: val_loss improved from 0.88935 to 0.87854, saving model to Image_classification_resnet50.h5\n",
      "8/8 [==============================] - 4s 560ms/step - loss: 0.9900 - accuracy: 0.4917 - val_loss: 0.8785 - val_accuracy: 0.6222\n",
      "Epoch 31/100\n",
      "8/8 [==============================] - ETA: 0s - loss: 0.9715 - accuracy: 0.4972\n",
      "Epoch 00031: val_loss improved from 0.87854 to 0.87422, saving model to Image_classification_resnet50.h5\n",
      "8/8 [==============================] - 5s 565ms/step - loss: 0.9715 - accuracy: 0.4972 - val_loss: 0.8742 - val_accuracy: 0.7000\n",
      "Epoch 32/100\n",
      "8/8 [==============================] - ETA: 0s - loss: 0.9760 - accuracy: 0.5167\n",
      "Epoch 00032: val_loss did not improve from 0.87422\n",
      "8/8 [==============================] - 4s 523ms/step - loss: 0.9760 - accuracy: 0.5167 - val_loss: 0.8877 - val_accuracy: 0.6778\n",
      "Epoch 33/100\n",
      "8/8 [==============================] - ETA: 0s - loss: 0.9872 - accuracy: 0.5028\n",
      "Epoch 00033: val_loss improved from 0.87422 to 0.87142, saving model to Image_classification_resnet50.h5\n",
      "8/8 [==============================] - 4s 556ms/step - loss: 0.9872 - accuracy: 0.5028 - val_loss: 0.8714 - val_accuracy: 0.7222\n",
      "Epoch 34/100\n",
      "8/8 [==============================] - ETA: 0s - loss: 0.9740 - accuracy: 0.5167\n",
      "Epoch 00034: val_loss improved from 0.87142 to 0.87080, saving model to Image_classification_resnet50.h5\n",
      "8/8 [==============================] - 5s 626ms/step - loss: 0.9740 - accuracy: 0.5167 - val_loss: 0.8708 - val_accuracy: 0.6889\n",
      "Epoch 35/100\n",
      "8/8 [==============================] - ETA: 0s - loss: 0.9776 - accuracy: 0.5139\n",
      "Epoch 00035: val_loss did not improve from 0.87080\n",
      "8/8 [==============================] - 4s 516ms/step - loss: 0.9776 - accuracy: 0.5139 - val_loss: 0.8738 - val_accuracy: 0.6667\n",
      "Epoch 36/100\n",
      "8/8 [==============================] - ETA: 0s - loss: 0.9636 - accuracy: 0.5083\n",
      "Epoch 00036: val_loss did not improve from 0.87080\n",
      "8/8 [==============================] - 4s 510ms/step - loss: 0.9636 - accuracy: 0.5083 - val_loss: 0.8769 - val_accuracy: 0.6667\n",
      "Epoch 37/100\n",
      "8/8 [==============================] - ETA: 0s - loss: 0.9712 - accuracy: 0.5167\n",
      "Epoch 00037: val_loss did not improve from 0.87080\n",
      "8/8 [==============================] - 4s 508ms/step - loss: 0.9712 - accuracy: 0.5167 - val_loss: 0.9608 - val_accuracy: 0.5667\n",
      "Epoch 38/100\n",
      "8/8 [==============================] - ETA: 0s - loss: 0.9967 - accuracy: 0.4972\n",
      "Epoch 00038: val_loss did not improve from 0.87080\n",
      "8/8 [==============================] - 4s 518ms/step - loss: 0.9967 - accuracy: 0.4972 - val_loss: 0.8749 - val_accuracy: 0.7000\n",
      "Epoch 39/100\n",
      "8/8 [==============================] - ETA: 0s - loss: 0.9617 - accuracy: 0.5222\n",
      "Epoch 00039: val_loss did not improve from 0.87080\n",
      "8/8 [==============================] - 4s 516ms/step - loss: 0.9617 - accuracy: 0.5222 - val_loss: 0.9087 - val_accuracy: 0.5111\n",
      "Epoch 40/100\n",
      "8/8 [==============================] - ETA: 0s - loss: 0.9866 - accuracy: 0.5000\n",
      "Epoch 00040: val_loss did not improve from 0.87080\n",
      "8/8 [==============================] - 4s 512ms/step - loss: 0.9866 - accuracy: 0.5000 - val_loss: 0.8879 - val_accuracy: 0.6111\n",
      "Epoch 41/100\n",
      "8/8 [==============================] - ETA: 0s - loss: 0.9682 - accuracy: 0.5472\n",
      "Epoch 00041: val_loss improved from 0.87080 to 0.86979, saving model to Image_classification_resnet50.h5\n",
      "8/8 [==============================] - 4s 562ms/step - loss: 0.9682 - accuracy: 0.5472 - val_loss: 0.8698 - val_accuracy: 0.6667\n",
      "Epoch 42/100\n",
      "8/8 [==============================] - ETA: 0s - loss: 0.9708 - accuracy: 0.5056\n",
      "Epoch 00042: val_loss did not improve from 0.86979\n",
      "8/8 [==============================] - 4s 523ms/step - loss: 0.9708 - accuracy: 0.5056 - val_loss: 0.8699 - val_accuracy: 0.7111\n",
      "Epoch 43/100\n",
      "8/8 [==============================] - ETA: 0s - loss: 0.9542 - accuracy: 0.5750\n",
      "Epoch 00043: val_loss did not improve from 0.86979\n",
      "8/8 [==============================] - 4s 514ms/step - loss: 0.9542 - accuracy: 0.5750 - val_loss: 0.8701 - val_accuracy: 0.6889\n",
      "Epoch 44/100\n",
      "8/8 [==============================] - ETA: 0s - loss: 0.9644 - accuracy: 0.5194\n",
      "Epoch 00044: val_loss did not improve from 0.86979\n",
      "8/8 [==============================] - 5s 591ms/step - loss: 0.9644 - accuracy: 0.5194 - val_loss: 0.8713 - val_accuracy: 0.6556\n",
      "Epoch 45/100\n",
      "8/8 [==============================] - ETA: 0s - loss: 0.9554 - accuracy: 0.5306\n",
      "Epoch 00045: val_loss did not improve from 0.86979\n",
      "8/8 [==============================] - 4s 527ms/step - loss: 0.9554 - accuracy: 0.5306 - val_loss: 0.8760 - val_accuracy: 0.6333\n",
      "Epoch 46/100\n",
      "8/8 [==============================] - ETA: 0s - loss: 0.9723 - accuracy: 0.5167\n",
      "Epoch 00046: val_loss did not improve from 0.86979\n",
      "8/8 [==============================] - 5s 576ms/step - loss: 0.9723 - accuracy: 0.5167 - val_loss: 0.8699 - val_accuracy: 0.7000\n",
      "Epoch 47/100\n",
      "8/8 [==============================] - ETA: 0s - loss: 0.9503 - accuracy: 0.5639\n",
      "Epoch 00047: val_loss did not improve from 0.86979\n",
      "8/8 [==============================] - 4s 507ms/step - loss: 0.9503 - accuracy: 0.5639 - val_loss: 0.8889 - val_accuracy: 0.6111\n",
      "Epoch 48/100\n",
      "8/8 [==============================] - ETA: 0s - loss: 0.9704 - accuracy: 0.5333\n",
      "Epoch 00048: val_loss did not improve from 0.86979\n",
      "8/8 [==============================] - 4s 510ms/step - loss: 0.9704 - accuracy: 0.5333 - val_loss: 0.8824 - val_accuracy: 0.6444\n",
      "Epoch 49/100\n",
      "8/8 [==============================] - ETA: 0s - loss: 0.9606 - accuracy: 0.5333\n",
      "Epoch 00049: val_loss did not improve from 0.86979\n",
      "8/8 [==============================] - 5s 580ms/step - loss: 0.9606 - accuracy: 0.5333 - val_loss: 0.8781 - val_accuracy: 0.6333\n",
      "Epoch 50/100\n",
      "8/8 [==============================] - ETA: 0s - loss: 0.9546 - accuracy: 0.5250\n",
      "Epoch 00050: val_loss did not improve from 0.86979\n",
      "8/8 [==============================] - 4s 514ms/step - loss: 0.9546 - accuracy: 0.5250 - val_loss: 0.8700 - val_accuracy: 0.6556\n",
      "Epoch 51/100\n",
      "8/8 [==============================] - ETA: 0s - loss: 0.9480 - accuracy: 0.5389\n",
      "Epoch 00051: val_loss did not improve from 0.86979\n",
      "8/8 [==============================] - 5s 576ms/step - loss: 0.9480 - accuracy: 0.5389 - val_loss: 0.8707 - val_accuracy: 0.6667\n",
      "Epoch 52/100\n",
      "8/8 [==============================] - ETA: 0s - loss: 0.9566 - accuracy: 0.5611\n",
      "Epoch 00052: val_loss did not improve from 0.86979\n",
      "8/8 [==============================] - 4s 519ms/step - loss: 0.9566 - accuracy: 0.5611 - val_loss: 0.8737 - val_accuracy: 0.6111\n",
      "Epoch 53/100\n",
      "8/8 [==============================] - ETA: 0s - loss: 0.9585 - accuracy: 0.5472\n",
      "Epoch 00053: val_loss did not improve from 0.86979\n",
      "8/8 [==============================] - 4s 511ms/step - loss: 0.9585 - accuracy: 0.5472 - val_loss: 0.8738 - val_accuracy: 0.6111\n",
      "Epoch 54/100\n",
      "8/8 [==============================] - ETA: 0s - loss: 0.9516 - accuracy: 0.5556\n",
      "Epoch 00054: val_loss did not improve from 0.86979\n",
      "8/8 [==============================] - 4s 511ms/step - loss: 0.9516 - accuracy: 0.5556 - val_loss: 0.8727 - val_accuracy: 0.6111\n",
      "Epoch 55/100\n",
      "8/8 [==============================] - ETA: 0s - loss: 0.9522 - accuracy: 0.5528\n",
      "Epoch 00055: val_loss did not improve from 0.86979\n",
      "8/8 [==============================] - 5s 577ms/step - loss: 0.9522 - accuracy: 0.5528 - val_loss: 0.8700 - val_accuracy: 0.6778\n",
      "Epoch 56/100\n",
      "8/8 [==============================] - ETA: 0s - loss: 0.9516 - accuracy: 0.5528\n",
      "Epoch 00056: val_loss improved from 0.86979 to 0.86879, saving model to Image_classification_resnet50.h5\n",
      "8/8 [==============================] - 4s 555ms/step - loss: 0.9516 - accuracy: 0.5528 - val_loss: 0.8688 - val_accuracy: 0.6778\n",
      "Epoch 57/100\n",
      "8/8 [==============================] - ETA: 0s - loss: 0.9487 - accuracy: 0.5167\n",
      "Epoch 00057: val_loss improved from 0.86879 to 0.86857, saving model to Image_classification_resnet50.h5\n",
      "8/8 [==============================] - 5s 573ms/step - loss: 0.9487 - accuracy: 0.5167 - val_loss: 0.8686 - val_accuracy: 0.6667\n",
      "Epoch 58/100\n",
      "8/8 [==============================] - ETA: 0s - loss: 0.9556 - accuracy: 0.5583\n",
      "Epoch 00058: val_loss did not improve from 0.86857\n",
      "8/8 [==============================] - 4s 528ms/step - loss: 0.9556 - accuracy: 0.5583 - val_loss: 0.8689 - val_accuracy: 0.6667\n",
      "Epoch 59/100\n",
      "8/8 [==============================] - ETA: 0s - loss: 0.9483 - accuracy: 0.5528\n",
      "Epoch 00059: val_loss did not improve from 0.86857\n",
      "8/8 [==============================] - 4s 520ms/step - loss: 0.9483 - accuracy: 0.5528 - val_loss: 0.8694 - val_accuracy: 0.6667\n",
      "Epoch 60/100\n",
      "8/8 [==============================] - ETA: 0s - loss: 0.9537 - accuracy: 0.5806\n",
      "Epoch 00060: val_loss did not improve from 0.86857\n",
      "8/8 [==============================] - 4s 525ms/step - loss: 0.9537 - accuracy: 0.5806 - val_loss: 0.8696 - val_accuracy: 0.6667\n",
      "Epoch 61/100\n",
      "8/8 [==============================] - ETA: 0s - loss: 0.9579 - accuracy: 0.5306\n",
      "Epoch 00061: val_loss did not improve from 0.86857\n",
      "8/8 [==============================] - 5s 589ms/step - loss: 0.9579 - accuracy: 0.5306 - val_loss: 0.8712 - val_accuracy: 0.6556\n",
      "Epoch 62/100\n",
      "8/8 [==============================] - ETA: 0s - loss: 0.9511 - accuracy: 0.5750\n",
      "Epoch 00062: val_loss did not improve from 0.86857\n",
      "8/8 [==============================] - 4s 517ms/step - loss: 0.9511 - accuracy: 0.5750 - val_loss: 0.8711 - val_accuracy: 0.6556\n",
      "Epoch 63/100\n",
      "8/8 [==============================] - ETA: 0s - loss: 0.9532 - accuracy: 0.5583\n",
      "Epoch 00063: val_loss did not improve from 0.86857\n",
      "8/8 [==============================] - 5s 581ms/step - loss: 0.9532 - accuracy: 0.5583 - val_loss: 0.8720 - val_accuracy: 0.6111\n",
      "Epoch 64/100\n",
      "8/8 [==============================] - ETA: 0s - loss: 0.9605 - accuracy: 0.5417\n",
      "Epoch 00064: val_loss did not improve from 0.86857\n",
      "8/8 [==============================] - 5s 581ms/step - loss: 0.9605 - accuracy: 0.5417 - val_loss: 0.8722 - val_accuracy: 0.6111\n",
      "Epoch 65/100\n",
      "8/8 [==============================] - ETA: 0s - loss: 0.9509 - accuracy: 0.5528\n",
      "Epoch 00065: val_loss did not improve from 0.86857\n",
      "8/8 [==============================] - 4s 541ms/step - loss: 0.9509 - accuracy: 0.5528 - val_loss: 0.8726 - val_accuracy: 0.6222\n",
      "Epoch 66/100\n",
      "8/8 [==============================] - ETA: 0s - loss: 0.9521 - accuracy: 0.5556\n",
      "Epoch 00066: val_loss did not improve from 0.86857\n",
      "8/8 [==============================] - 4s 515ms/step - loss: 0.9521 - accuracy: 0.5556 - val_loss: 0.8728 - val_accuracy: 0.6222\n",
      "Epoch 67/100\n",
      "8/8 [==============================] - ETA: 0s - loss: 0.9530 - accuracy: 0.5778\n",
      "Epoch 00067: val_loss did not improve from 0.86857\n",
      "8/8 [==============================] - 4s 516ms/step - loss: 0.9530 - accuracy: 0.5778 - val_loss: 0.8722 - val_accuracy: 0.6111\n",
      "Epoch 68/100\n",
      "8/8 [==============================] - ETA: 0s - loss: 0.9489 - accuracy: 0.5694\n",
      "Epoch 00068: val_loss did not improve from 0.86857\n",
      "8/8 [==============================] - 4s 514ms/step - loss: 0.9489 - accuracy: 0.5694 - val_loss: 0.8717 - val_accuracy: 0.6111\n",
      "Epoch 69/100\n",
      "8/8 [==============================] - ETA: 0s - loss: 0.9575 - accuracy: 0.5500\n",
      "Epoch 00069: val_loss did not improve from 0.86857\n",
      "8/8 [==============================] - 4s 525ms/step - loss: 0.9575 - accuracy: 0.5500 - val_loss: 0.8714 - val_accuracy: 0.6444\n",
      "Epoch 70/100\n",
      "8/8 [==============================] - ETA: 0s - loss: 0.9494 - accuracy: 0.5611\n",
      "Epoch 00070: val_loss did not improve from 0.86857\n",
      "8/8 [==============================] - 4s 523ms/step - loss: 0.9494 - accuracy: 0.5611 - val_loss: 0.8713 - val_accuracy: 0.6444\n",
      "Epoch 71/100\n",
      "8/8 [==============================] - ETA: 0s - loss: 0.9525 - accuracy: 0.5444\n",
      "Epoch 00071: val_loss did not improve from 0.86857\n",
      "8/8 [==============================] - 4s 516ms/step - loss: 0.9525 - accuracy: 0.5444 - val_loss: 0.8711 - val_accuracy: 0.6444\n",
      "Epoch 72/100\n",
      "8/8 [==============================] - ETA: 0s - loss: 0.9642 - accuracy: 0.5417\n",
      "Epoch 00072: val_loss did not improve from 0.86857\n",
      "8/8 [==============================] - 4s 514ms/step - loss: 0.9642 - accuracy: 0.5417 - val_loss: 0.8709 - val_accuracy: 0.6556\n",
      "Epoch 73/100\n",
      "8/8 [==============================] - ETA: 0s - loss: 0.9557 - accuracy: 0.5333\n",
      "Epoch 00073: val_loss did not improve from 0.86857\n",
      "8/8 [==============================] - 4s 514ms/step - loss: 0.9557 - accuracy: 0.5333 - val_loss: 0.8707 - val_accuracy: 0.6556\n",
      "Epoch 74/100\n",
      "8/8 [==============================] - ETA: 0s - loss: 0.9447 - accuracy: 0.5472\n",
      "Epoch 00074: val_loss did not improve from 0.86857\n",
      "8/8 [==============================] - 4s 516ms/step - loss: 0.9447 - accuracy: 0.5472 - val_loss: 0.8706 - val_accuracy: 0.6556\n",
      "Epoch 75/100\n",
      "8/8 [==============================] - ETA: 0s - loss: 0.9458 - accuracy: 0.5444\n",
      "Epoch 00075: val_loss did not improve from 0.86857\n",
      "8/8 [==============================] - 4s 513ms/step - loss: 0.9458 - accuracy: 0.5444 - val_loss: 0.8705 - val_accuracy: 0.6667\n",
      "Epoch 76/100\n",
      "8/8 [==============================] - ETA: 0s - loss: 0.9436 - accuracy: 0.5917\n",
      "Epoch 00076: val_loss did not improve from 0.86857\n",
      "8/8 [==============================] - 4s 521ms/step - loss: 0.9436 - accuracy: 0.5917 - val_loss: 0.8705 - val_accuracy: 0.6667\n",
      "Epoch 77/100\n",
      "8/8 [==============================] - ETA: 0s - loss: 0.9573 - accuracy: 0.5611\n",
      "Epoch 00077: val_loss did not improve from 0.86857\n",
      "8/8 [==============================] - 4s 532ms/step - loss: 0.9573 - accuracy: 0.5611 - val_loss: 0.8705 - val_accuracy: 0.6667\n",
      "Epoch 78/100\n",
      "8/8 [==============================] - ETA: 0s - loss: 0.9485 - accuracy: 0.5583\n",
      "Epoch 00078: val_loss did not improve from 0.86857\n",
      "8/8 [==============================] - 4s 523ms/step - loss: 0.9485 - accuracy: 0.5583 - val_loss: 0.8705 - val_accuracy: 0.6667\n",
      "Epoch 79/100\n",
      "8/8 [==============================] - ETA: 0s - loss: 0.9585 - accuracy: 0.5472\n",
      "Epoch 00079: val_loss did not improve from 0.86857\n",
      "8/8 [==============================] - 4s 517ms/step - loss: 0.9585 - accuracy: 0.5472 - val_loss: 0.8705 - val_accuracy: 0.6667\n",
      "Epoch 80/100\n",
      "8/8 [==============================] - ETA: 0s - loss: 0.9528 - accuracy: 0.5583\n",
      "Epoch 00080: val_loss did not improve from 0.86857\n",
      "8/8 [==============================] - 4s 516ms/step - loss: 0.9528 - accuracy: 0.5583 - val_loss: 0.8705 - val_accuracy: 0.6667\n",
      "Epoch 81/100\n",
      "8/8 [==============================] - ETA: 0s - loss: 0.9581 - accuracy: 0.5444\n",
      "Epoch 00081: val_loss did not improve from 0.86857\n",
      "8/8 [==============================] - 4s 520ms/step - loss: 0.9581 - accuracy: 0.5444 - val_loss: 0.8705 - val_accuracy: 0.6667\n",
      "Epoch 82/100\n",
      "8/8 [==============================] - ETA: 0s - loss: 0.9417 - accuracy: 0.5750\n",
      "Epoch 00082: val_loss did not improve from 0.86857\n",
      "8/8 [==============================] - 4s 522ms/step - loss: 0.9417 - accuracy: 0.5750 - val_loss: 0.8706 - val_accuracy: 0.6667\n",
      "Epoch 83/100\n",
      "8/8 [==============================] - ETA: 0s - loss: 0.9522 - accuracy: 0.5417\n",
      "Epoch 00083: val_loss did not improve from 0.86857\n",
      "8/8 [==============================] - 4s 518ms/step - loss: 0.9522 - accuracy: 0.5417 - val_loss: 0.8705 - val_accuracy: 0.6667\n",
      "Epoch 84/100\n",
      "8/8 [==============================] - ETA: 0s - loss: 0.9519 - accuracy: 0.5528\n",
      "Epoch 00084: val_loss did not improve from 0.86857\n",
      "8/8 [==============================] - 5s 584ms/step - loss: 0.9519 - accuracy: 0.5528 - val_loss: 0.8705 - val_accuracy: 0.6667\n",
      "Epoch 85/100\n",
      "8/8 [==============================] - ETA: 0s - loss: 0.9403 - accuracy: 0.5556\n",
      "Epoch 00085: val_loss did not improve from 0.86857\n",
      "8/8 [==============================] - 4s 514ms/step - loss: 0.9403 - accuracy: 0.5556 - val_loss: 0.8706 - val_accuracy: 0.6667\n",
      "Epoch 86/100\n",
      "8/8 [==============================] - ETA: 0s - loss: 0.9559 - accuracy: 0.5500\n",
      "Epoch 00086: val_loss did not improve from 0.86857\n",
      "8/8 [==============================] - 5s 577ms/step - loss: 0.9559 - accuracy: 0.5500 - val_loss: 0.8706 - val_accuracy: 0.6667\n",
      "Epoch 87/100\n",
      "8/8 [==============================] - ETA: 0s - loss: 0.9499 - accuracy: 0.5694\n",
      "Epoch 00087: val_loss did not improve from 0.86857\n",
      "8/8 [==============================] - 4s 523ms/step - loss: 0.9499 - accuracy: 0.5694 - val_loss: 0.8706 - val_accuracy: 0.6667\n",
      "Epoch 88/100\n",
      "8/8 [==============================] - ETA: 0s - loss: 0.9548 - accuracy: 0.5722\n",
      "Epoch 00088: val_loss did not improve from 0.86857\n",
      "8/8 [==============================] - 5s 600ms/step - loss: 0.9548 - accuracy: 0.5722 - val_loss: 0.8706 - val_accuracy: 0.6667\n",
      "Epoch 89/100\n",
      "8/8 [==============================] - ETA: 0s - loss: 0.9547 - accuracy: 0.5611\n",
      "Epoch 00089: val_loss did not improve from 0.86857\n",
      "8/8 [==============================] - 4s 542ms/step - loss: 0.9547 - accuracy: 0.5611 - val_loss: 0.8706 - val_accuracy: 0.6667\n",
      "Epoch 90/100\n",
      "8/8 [==============================] - ETA: 0s - loss: 0.9595 - accuracy: 0.5694\n",
      "Epoch 00090: val_loss did not improve from 0.86857\n",
      "8/8 [==============================] - 4s 541ms/step - loss: 0.9595 - accuracy: 0.5694 - val_loss: 0.8706 - val_accuracy: 0.6667\n",
      "Epoch 91/100\n",
      "8/8 [==============================] - ETA: 0s - loss: 0.9464 - accuracy: 0.5389\n",
      "Epoch 00091: val_loss did not improve from 0.86857\n",
      "8/8 [==============================] - 4s 532ms/step - loss: 0.9464 - accuracy: 0.5389 - val_loss: 0.8706 - val_accuracy: 0.6667\n",
      "Epoch 92/100\n",
      "8/8 [==============================] - ETA: 0s - loss: 0.9488 - accuracy: 0.5722\n",
      "Epoch 00092: val_loss did not improve from 0.86857\n",
      "8/8 [==============================] - 4s 521ms/step - loss: 0.9488 - accuracy: 0.5722 - val_loss: 0.8706 - val_accuracy: 0.6667\n",
      "Epoch 93/100\n",
      "8/8 [==============================] - ETA: 0s - loss: 0.9629 - accuracy: 0.5278\n",
      "Epoch 00093: val_loss did not improve from 0.86857\n",
      "8/8 [==============================] - 4s 525ms/step - loss: 0.9629 - accuracy: 0.5278 - val_loss: 0.8706 - val_accuracy: 0.6667\n",
      "Epoch 94/100\n",
      "8/8 [==============================] - ETA: 0s - loss: 0.9399 - accuracy: 0.5667\n",
      "Epoch 00094: val_loss did not improve from 0.86857\n",
      "8/8 [==============================] - 4s 536ms/step - loss: 0.9399 - accuracy: 0.5667 - val_loss: 0.8706 - val_accuracy: 0.6667\n",
      "Epoch 95/100\n",
      "8/8 [==============================] - ETA: 0s - loss: 0.9505 - accuracy: 0.5556\n",
      "Epoch 00095: val_loss did not improve from 0.86857\n",
      "8/8 [==============================] - 4s 530ms/step - loss: 0.9505 - accuracy: 0.5556 - val_loss: 0.8706 - val_accuracy: 0.6667\n",
      "Epoch 96/100\n",
      "8/8 [==============================] - ETA: 0s - loss: 0.9482 - accuracy: 0.5611\n",
      "Epoch 00096: val_loss did not improve from 0.86857\n",
      "8/8 [==============================] - 4s 517ms/step - loss: 0.9482 - accuracy: 0.5611 - val_loss: 0.8706 - val_accuracy: 0.6667\n",
      "Epoch 97/100\n",
      "8/8 [==============================] - ETA: 0s - loss: 0.9526 - accuracy: 0.5750\n",
      "Epoch 00097: val_loss did not improve from 0.86857\n",
      "8/8 [==============================] - 5s 590ms/step - loss: 0.9526 - accuracy: 0.5750 - val_loss: 0.8706 - val_accuracy: 0.6667\n",
      "Epoch 98/100\n",
      "8/8 [==============================] - ETA: 0s - loss: 0.9462 - accuracy: 0.5778\n",
      "Epoch 00098: val_loss did not improve from 0.86857\n",
      "8/8 [==============================] - 4s 552ms/step - loss: 0.9462 - accuracy: 0.5778 - val_loss: 0.8706 - val_accuracy: 0.6667\n",
      "Epoch 99/100\n",
      "8/8 [==============================] - ETA: 0s - loss: 0.9553 - accuracy: 0.5611\n",
      "Epoch 00099: val_loss did not improve from 0.86857\n",
      "8/8 [==============================] - 4s 546ms/step - loss: 0.9553 - accuracy: 0.5611 - val_loss: 0.8706 - val_accuracy: 0.6667\n",
      "Epoch 100/100\n",
      "8/8 [==============================] - ETA: 0s - loss: 0.9432 - accuracy: 0.5611\n",
      "Epoch 00100: val_loss did not improve from 0.86857\n",
      "8/8 [==============================] - 4s 557ms/step - loss: 0.9432 - accuracy: 0.5611 - val_loss: 0.8706 - val_accuracy: 0.6667\n"
     ]
    }
   ],
   "source": [
    "history = model.fit(\n",
    "        train_generator,\n",
    "        epochs = NUM_EPOCHS,\n",
    "        validation_data=validation_generator,\n",
    "        callbacks=callbacks)"
   ]
  },
  {
   "cell_type": "code",
   "execution_count": 21,
   "metadata": {
    "id": "Oiv8gsl8Z8rQ"
   },
   "outputs": [],
   "source": [
    "model.save('human_activity_recognitation.h5')"
   ]
  },
  {
   "cell_type": "code",
   "execution_count": 33,
   "metadata": {
    "colab": {
     "base_uri": "https://localhost:8080/"
    },
    "id": "s8DfxK1SqaBp",
    "outputId": "63a721ca-94de-4d5c-ea04-c288ef990818"
   },
   "outputs": [
    {
     "name": "stdout",
     "output_type": "stream",
     "text": [
      "{'YOGA  - tree pose': 0, 'YOGA - goddess pose': 1, 'walking': 2}\n"
     ]
    }
   ],
   "source": [
    "print(train_generator.class_indices)"
   ]
  },
  {
   "cell_type": "code",
   "execution_count": 35,
   "metadata": {
    "colab": {
     "base_uri": "https://localhost:8080/"
    },
    "id": "holCnPGjqmZd",
    "outputId": "85df0011-acab-4aeb-ea74-598257c6aeed"
   },
   "outputs": [
    {
     "name": "stdout",
     "output_type": "stream",
     "text": [
      "YOGA - goddess pose\n"
     ]
    }
   ],
   "source": [
    "import numpy as np\n",
    "from tensorflow.keras.preprocessing import image\n",
    "test_image = image.load_img('/content/drive/MyDrive/images.jpg', target_size = (224, 224,3))\n",
    "test_image = image.img_to_array(test_image)\n",
    "test_image = np.expand_dims(test_image, axis = 0)\n",
    "img_class = (model.predict_classes(test_image)>0.6).astype(\"int32\")\n",
    "prediction = img_class[0]\n",
    "classname = img_class[0]\n",
    "for k, v in train_generator.class_indices.items():\n",
    "    if v == classname:\n",
    "        print(k)"
   ]
  },
  {
   "cell_type": "code",
   "execution_count": 38,
   "metadata": {
    "colab": {
     "base_uri": "https://localhost:8080/"
    },
    "id": "Odw1JXLxso23",
    "outputId": "fd4b5816-b409-45a1-c04d-5070be0a8555"
   },
   "outputs": [
    {
     "name": "stdout",
     "output_type": "stream",
     "text": [
      "[0] 0 0\n",
      "YOGA  - tree pose\n"
     ]
    }
   ],
   "source": [
    "import numpy as np\n",
    "from tensorflow.keras.preprocessing import image\n",
    "test_image = image.load_img('/content/images (1).jpg', target_size = (224, 224,3))\n",
    "test_image = image.img_to_array(test_image)\n",
    "test_image = np.expand_dims(test_image, axis = 0)\n",
    "img_class = (model.predict_classes(test_image)>0.6).astype(\"int32\")\n",
    "prediction = img_class[0]\n",
    "classname = img_class[0]\n",
    "print(img_class, prediction, classname)\n",
    "for k, v in train_generator.class_indices.items():\n",
    "    if v == classname:\n",
    "        print(k)"
   ]
  },
  {
   "cell_type": "code",
   "execution_count": 22,
   "metadata": {
    "id": "qWisxOT3f75B"
   },
   "outputs": [],
   "source": [
    "from tensorflow import keras\n",
    "m = keras.models.load_model('human_activity_recognitation.h5')"
   ]
  },
  {
   "cell_type": "code",
   "execution_count": null,
   "metadata": {
    "id": "knj8wG__vpig"
   },
   "outputs": [],
   "source": []
  }
 ],
 "metadata": {
  "accelerator": "GPU",
  "colab": {
   "name": "human_activity_recognitation_ColabNotebook.ipynb",
   "provenance": []
  },
  "kernelspec": {
   "display_name": "Python 3",
   "language": "python",
   "name": "python3"
  },
  "language_info": {
   "codemirror_mode": {
    "name": "ipython",
    "version": 3
   },
   "file_extension": ".py",
   "mimetype": "text/x-python",
   "name": "python",
   "nbconvert_exporter": "python",
   "pygments_lexer": "ipython3",
   "version": "3.7.9"
  }
 },
 "nbformat": 4,
 "nbformat_minor": 1
}
