{
 "cells": [
  {
   "cell_type": "code",
   "execution_count": 5,
   "metadata": {},
   "outputs": [
    {
     "name": "stdout",
     "output_type": "stream",
     "text": [
      "WARNING:tensorflow:Error in loading the saved optimizer state. As a result, your model is starting with a freshly initialized optimizer.\n"
     ]
    }
   ],
   "source": [
    "from tensorflow.keras.models import load_model\n",
    "model = load_model('human_activity_recognitation.h5')"
   ]
  },
  {
   "cell_type": "code",
   "execution_count": 6,
   "metadata": {},
   "outputs": [],
   "source": [
    "import numpy as np\n",
    "from tensorflow.keras.preprocessing import image"
   ]
  },
  {
   "cell_type": "code",
   "execution_count": 16,
   "metadata": {},
   "outputs": [],
   "source": [
    "import cv2 \n",
    "  \n",
    "vid = cv2.VideoCapture(0) \n",
    "count = 0 \n",
    "lst = []\n",
    "text = ''\n",
    "label = {0: 'YOGA  - tree pose', 1: 'YOGA - goddess pose', 2: 'walking'}\n",
    "\n",
    "while(True): \n",
    "       \n",
    "    ret, frame = vid.read() \n",
    "    count += 1\n",
    "    test_image = cv2.resize(frame, (224, 224))\n",
    "    test_image = image.img_to_array(test_image)\n",
    "    test_image = np.expand_dims(test_image, axis = 0)\n",
    "    img_class = model.predict_classes(test_image)\n",
    "    lst.append(img_class[0])\n",
    "    \n",
    "    \n",
    "    if count % 3 == 0:\n",
    "        text = label[int(np.max(lst))]\n",
    "        count = 0\n",
    "        lst = []\n",
    "     \n",
    "    \n",
    "    cv2.putText(frame, f\"{text}\", (35, 50), cv2.FONT_HERSHEY_SIMPLEX,1.25, (0, 255, 0), 5)\n",
    "        \n",
    "   \n",
    "    cv2.imshow('frame', cv2.resize(frame, (1080,720))) \n",
    "      \n",
    "    # the 'q' button is set as the\n",
    "    if cv2.waitKey(1) & 0xFF == ord('q'): \n",
    "        break\n",
    "  \n",
    "\n",
    "vid.release()  \n",
    "cv2.destroyAllWindows()"
   ]
  },
  {
   "cell_type": "code",
   "execution_count": null,
   "metadata": {},
   "outputs": [],
   "source": []
  }
 ],
 "metadata": {
  "kernelspec": {
   "display_name": "Python 3",
   "language": "python",
   "name": "python3"
  },
  "language_info": {
   "codemirror_mode": {
    "name": "ipython",
    "version": 3
   },
   "file_extension": ".py",
   "mimetype": "text/x-python",
   "name": "python",
   "nbconvert_exporter": "python",
   "pygments_lexer": "ipython3",
   "version": "3.7.9"
  }
 },
 "nbformat": 4,
 "nbformat_minor": 4
}
