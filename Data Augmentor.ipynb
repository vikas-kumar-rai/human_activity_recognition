{
 "cells": [
  {
   "cell_type": "code",
   "execution_count": 2,
   "metadata": {},
   "outputs": [],
   "source": [
    "import Augmentor"
   ]
  },
  {
   "cell_type": "code",
   "execution_count": 19,
   "metadata": {},
   "outputs": [
    {
     "name": "stdout",
     "output_type": "stream",
     "text": [
      "Initialised with 27 image(s) found.\n",
      "Output directory set to C:\\Users\\Asus\\PycharmProjects\\human_activity_recognition\\data\\test\\walking\\output."
     ]
    }
   ],
   "source": [
    "p = Augmentor.Pipeline(r\"C:\\Users\\Asus\\PycharmProjects\\human_activity_recognition\\data\\test\\walking\")"
   ]
  },
  {
   "cell_type": "code",
   "execution_count": 20,
   "metadata": {},
   "outputs": [],
   "source": [
    "p.resize(probability=1., width=224, height=224)"
   ]
  },
  {
   "cell_type": "code",
   "execution_count": 21,
   "metadata": {},
   "outputs": [],
   "source": [
    "p.random_brightness(probability = 0.5, min_factor=0.4, max_factor=0.9)"
   ]
  },
  {
   "cell_type": "code",
   "execution_count": 22,
   "metadata": {},
   "outputs": [
    {
     "name": "stderr",
     "output_type": "stream",
     "text": [
      "Processing <PIL.Image.Image image mode=RGBA size=224x224 at 0x1B3FECEC808>: 100%|█| 30/30 [00:00<00:00, 100.15 Samples/\n"
     ]
    }
   ],
   "source": [
    "p.sample(30)"
   ]
  },
  {
   "cell_type": "code",
   "execution_count": 28,
   "metadata": {},
   "outputs": [
    {
     "name": "stdout",
     "output_type": "stream",
     "text": [
      "Initialised with 25 image(s) found.\n",
      "Output directory set to C:\\Users\\Asus\\PycharmProjects\\human_activity_recognition\\data\\test\\YOGA  - tree pose\\output."
     ]
    }
   ],
   "source": [
    "p1 = Augmentor.Pipeline(r\"C:\\Users\\Asus\\PycharmProjects\\human_activity_recognition\\data\\test\\YOGA  - tree pose\")"
   ]
  },
  {
   "cell_type": "code",
   "execution_count": 29,
   "metadata": {},
   "outputs": [],
   "source": [
    "p1.resize(probability=1., width=224, height=224)"
   ]
  },
  {
   "cell_type": "code",
   "execution_count": 30,
   "metadata": {},
   "outputs": [],
   "source": [
    "p1.random_brightness(probability = 0.5, min_factor=0.4, max_factor=0.9)"
   ]
  },
  {
   "cell_type": "code",
   "execution_count": 31,
   "metadata": {},
   "outputs": [
    {
     "name": "stderr",
     "output_type": "stream",
     "text": [
      "Processing <PIL.Image.Image image mode=RGB size=224x224 at 0x1B3FED24E88>: 100%|█| 30/30 [00:00<00:00, 47.77 Samples/s]\n"
     ]
    }
   ],
   "source": [
    "p1.sample(30)"
   ]
  },
  {
   "cell_type": "code",
   "execution_count": 24,
   "metadata": {},
   "outputs": [
    {
     "name": "stdout",
     "output_type": "stream",
     "text": [
      "Initialised with 31 image(s) found.\n",
      "Output directory set to C:\\Users\\Asus\\PycharmProjects\\human_activity_recognition\\data\\test\\YOGA - goddess pose\\output."
     ]
    }
   ],
   "source": [
    "p2 = Augmentor.Pipeline(r\"C:\\Users\\Asus\\PycharmProjects\\human_activity_recognition\\data\\test\\YOGA - goddess pose\")"
   ]
  },
  {
   "cell_type": "code",
   "execution_count": 25,
   "metadata": {},
   "outputs": [],
   "source": [
    "p2.resize(probability=1., width=224, height=224)"
   ]
  },
  {
   "cell_type": "code",
   "execution_count": 26,
   "metadata": {},
   "outputs": [],
   "source": [
    "p2.random_brightness(probability = 0.5, min_factor=0.4, max_factor=0.9)"
   ]
  },
  {
   "cell_type": "code",
   "execution_count": 27,
   "metadata": {},
   "outputs": [
    {
     "name": "stderr",
     "output_type": "stream",
     "text": [
      "Processing <PIL.Image.Image image mode=RGB size=224x224 at 0x1B3FED1ED48>: 100%|█| 30/30 [00:00<00:00, 89.60 Samples/s]\n"
     ]
    }
   ],
   "source": [
    "p2.sample(30)"
   ]
  },
  {
   "cell_type": "code",
   "execution_count": null,
   "metadata": {},
   "outputs": [],
   "source": []
  }
 ],
 "metadata": {
  "kernelspec": {
   "display_name": "Python 3",
   "language": "python",
   "name": "python3"
  },
  "language_info": {
   "codemirror_mode": {
    "name": "ipython",
    "version": 3
   },
   "file_extension": ".py",
   "mimetype": "text/x-python",
   "name": "python",
   "nbconvert_exporter": "python",
   "pygments_lexer": "ipython3",
   "version": "3.7.9"
  }
 },
 "nbformat": 4,
 "nbformat_minor": 4
}
